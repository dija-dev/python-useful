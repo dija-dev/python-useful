{
 "cells": [
  {
   "cell_type": "code",
   "execution_count": 1,
   "id": "abd7d351",
   "metadata": {},
   "outputs": [],
   "source": [
    "import datetime\n",
    "from typing import List"
   ]
  },
  {
   "cell_type": "code",
   "execution_count": 2,
   "id": "c871b3a4",
   "metadata": {},
   "outputs": [],
   "source": [
    "def list_date(\n",
    "    start_date: str = \"2022-01-01\",\n",
    "    end_date: str = \"2022-01-31\",\n",
    "    **step,\n",
    ") -> List[datetime.datetime]:\n",
    "\n",
    "    # str型をdatetime型に変換する．\n",
    "    start_date = datetime.datetime.strptime(start_date, \"%Y-%m-%d\")\n",
    "    end_date = datetime.datetime.strptime(end_date, \"%Y-%m-%d\")\n",
    "\n",
    "    # timedelta型の間隔を定義する．デフォルトは1日おき．\n",
    "    step = datetime.timedelta(**(step or dict(days=1)))\n",
    "\n",
    "    # while文を回し，日を追加する．\n",
    "    dates = [start_date]\n",
    "    while dates[-1] < end_date:\n",
    "        date = dates[-1] + step\n",
    "        if date <= end_date:\n",
    "            dates.append(date)\n",
    "        else:\n",
    "            break\n",
    "\n",
    "    return dates"
   ]
  },
  {
   "cell_type": "code",
   "execution_count": 3,
   "id": "28c29ff7",
   "metadata": {},
   "outputs": [
    {
     "name": "stdout",
     "output_type": "stream",
     "text": [
      "[datetime.datetime(2022, 1, 1, 0, 0), datetime.datetime(2022, 1, 2, 8, 0), datetime.datetime(2022, 1, 3, 16, 0), datetime.datetime(2022, 1, 5, 0, 0)]\n"
     ]
    }
   ],
   "source": [
    "dates = list_date(\"2022-01-01\", \"2022-01-05\", days=1, hours=8)\n",
    "print(dates)"
   ]
  },
  {
   "cell_type": "code",
   "execution_count": null,
   "id": "a5783858",
   "metadata": {},
   "outputs": [],
   "source": []
  }
 ],
 "metadata": {
  "kernelspec": {
   "display_name": "Python 3 (ipykernel)",
   "language": "python",
   "name": "python3"
  },
  "language_info": {
   "codemirror_mode": {
    "name": "ipython",
    "version": 3
   },
   "file_extension": ".py",
   "mimetype": "text/x-python",
   "name": "python",
   "nbconvert_exporter": "python",
   "pygments_lexer": "ipython3",
   "version": "3.11.7"
  }
 },
 "nbformat": 4,
 "nbformat_minor": 5
}
