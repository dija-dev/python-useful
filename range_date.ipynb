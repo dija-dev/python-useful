{
 "cells": [
  {
   "cell_type": "code",
   "execution_count": 1,
   "metadata": {},
   "outputs": [],
   "source": [
    "import datetime\n",
    "from typing import Generator, List"
   ]
  },
  {
   "cell_type": "code",
   "execution_count": 2,
   "id": "ae0c8ca3",
   "metadata": {},
   "outputs": [],
   "source": [
    "def range_date(\n",
    "    start_date: str = \"2020-01-01\",\n",
    "    end_date: str = \"2020-01-31\",\n",
    "    **step,\n",
    ") -> Generator[datetime.datetime, None, None]:\n",
    "\n",
    "    # str型をdatetime型に変換する．\n",
    "    start_date = datetime.datetime.strptime(start_date, \"%Y-%m-%d\")\n",
    "    end_date = datetime.datetime.strptime(end_date, \"%Y-%m-%d\")\n",
    "\n",
    "    # timedelta型の間隔を定義する．デフォルトは1日おき．\n",
    "    step = datetime.timedelta(**(step or dict(days=1)))\n",
    "\n",
    "    # while文を回し，yieldでジェネレータを返す．\n",
    "    date = start_date\n",
    "    while date < end_date:\n",
    "        yield date\n",
    "        date += step"
   ]
  },
  {
   "cell_type": "code",
   "execution_count": 3,
   "id": "fe2e2f69",
   "metadata": {},
   "outputs": [
    {
     "name": "stdout",
     "output_type": "stream",
     "text": [
      "[datetime.datetime(2020, 1, 1, 0, 0), datetime.datetime(2020, 1, 2, 12, 0), datetime.datetime(2020, 1, 4, 0, 0)]\n"
     ]
    }
   ],
   "source": [
    "dates = list(range_date(\"2020-01-01\", \"2020-01-05\", days=1, hours=12))\n",
    "print(dates)"
   ]
  },
  {
   "cell_type": "code",
   "execution_count": null,
   "id": "1733aa30",
   "metadata": {},
   "outputs": [],
   "source": []
  }
 ],
 "metadata": {
  "kernelspec": {
   "display_name": "base",
   "language": "python",
   "name": "python3"
  },
  "language_info": {
   "codemirror_mode": {
    "name": "ipython",
    "version": 3
   },
   "file_extension": ".py",
   "mimetype": "text/x-python",
   "name": "python",
   "nbconvert_exporter": "python",
   "pygments_lexer": "ipython3",
   "version": "3.11.7"
  }
 },
 "nbformat": 4,
 "nbformat_minor": 5
}
