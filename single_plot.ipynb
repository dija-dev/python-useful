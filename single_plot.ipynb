{
 "cells": [
  {
   "cell_type": "code",
   "execution_count": 1,
   "id": "fa2c24e3",
   "metadata": {},
   "outputs": [],
   "source": [
    "from matplotlib import pyplot as plt"
   ]
  },
  {
   "cell_type": "code",
   "execution_count": 2,
   "id": "e39ecf0e",
   "metadata": {},
   "outputs": [],
   "source": [
    "%matplotlib inline"
   ]
  },
  {
   "cell_type": "code",
   "execution_count": 3,
   "id": "a50c8657",
   "metadata": {},
   "outputs": [],
   "source": [
    "def single_plot(x, y, label=None):\n",
    "\n",
    "    def legend_without_duplicate_labels(ax, **kwargs):\n",
    "        handles, labels = ax.get_legend_handles_labels()\n",
    "        unique = [ (h, l) for i, (h, l) in enumerate(zip(handles, labels)) if l not in labels[:i] ]\n",
    "        ax.legend(*zip(*unique), **kwargs)\n",
    "    \n",
    "    fig, ax = plt.subplots(figsize=(6,4), dpi=40)\n",
    "    ax.plot(x, y, label='plot label')\n",
    "    ax.set_xlim([min(x), max(x)])\n",
    "    ax.set_ylim([min(y), max(y)])\n",
    "    ax.set_xlabel('xlabel', fontsize=16)\n",
    "    ax.set_ylabel('ylabel', fontsize=16)\n",
    "    ax.set_title('title', fontsize=16)\n",
    "    \n",
    "    if label:\n",
    "        ax.set_xticks(label)\n",
    "        ax.set_xticklabels(label, rotation=90)\n",
    "\n",
    "    legend_without_duplicate_labels(ax, bbox_to_anchor=(1.05, 1), loc='upper left', borderaxespad=0, fontsize=16)\n",
    "    ax.grid(axis='both', linestyle='--', color='k')\n",
    "\n",
    "    plt.show()"
   ]
  },
  {
   "cell_type": "code",
   "execution_count": 4,
   "id": "79810993",
   "metadata": {},
   "outputs": [
    {
     "data": {
      "image/png": "[encoded data removed]",
      "text/plain": [
       "<Figure size 240x160 with 1 Axes>"
      ]
     },
     "metadata": {
      "needs_background": "light"
     },
     "output_type": "display_data"
    }
   ],
   "source": [
    "x = [ i for i in range(12) ]\n",
    "single_plot(x, x, x)"
   ]
  },
  {
   "cell_type": "code",
   "execution_count": null,
   "id": "f1927692",
   "metadata": {},
   "outputs": [],
   "source": []
  }
 ],
 "metadata": {
  "kernelspec": {
   "display_name": "Python 3 (ipykernel)",
   "language": "python",
   "name": "python3"
  },
  "language_info": {
   "codemirror_mode": {
    "name": "ipython",
    "version": 3
   },
   "file_extension": ".py",
   "mimetype": "text/x-python",
   "name": "python",
   "nbconvert_exporter": "python",
   "pygments_lexer": "ipython3",
   "version": "3.8.11"
  }
 },
 "nbformat": 4,
 "nbformat_minor": 5
}
