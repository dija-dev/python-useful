{
 "cells": [
  {
   "cell_type": "code",
   "execution_count": null,
   "metadata": {},
   "outputs": [],
   "source": [
    "%%bash\n",
    "apt-get update -qq\n",
    "apt-get install ffmpeg -qq\n",
    "git clone https://github.com/Plachtaa/VALL-E-X.git\n",
    "cd VALL-E-X\n",
    "pip install -q -r requirements.txt\n",
    "pip install -q pydub"
   ]
  },
  {
   "cell_type": "code",
   "execution_count": null,
   "metadata": {},
   "outputs": [],
   "source": [
    "import os\n",
    "\n",
    "os.chdir(\"/content/VALL-E-X\")"
   ]
  },
  {
   "cell_type": "code",
   "execution_count": null,
   "metadata": {},
   "outputs": [],
   "source": [
    "from IPython.display import Audio\n",
    "from pydub import AudioSegment\n",
    "from scipy.io.wavfile import write as write_wav\n",
    "from utils.generation import SAMPLE_RATE, generate_audio, preload_models\n",
    "from utils.prompt_making import make_prompt"
   ]
  },
  {
   "cell_type": "code",
   "execution_count": null,
   "metadata": {},
   "outputs": [],
   "source": [
    "preload_models()"
   ]
  },
  {
   "cell_type": "markdown",
   "metadata": {},
   "source": [
    "テスト w/o リファレンス\n"
   ]
  },
  {
   "cell_type": "code",
   "execution_count": null,
   "metadata": {},
   "outputs": [],
   "source": [
    "text_prompt = \"\"\"\n",
    "    Quantum computers are advanced computational devices that use principles of quantum mechanics to process information.\n",
    "    Unlike classical computers which use bits as 0s or 1s, quantum computers use qubits, which can be in a superposition of both states.\n",
    "    This allows them to solve certain problems much faster than classical computers, especially in areas like cryptography and optimization.\n",
    "\"\"\"\n",
    "\n",
    "audio_array = generate_audio(text_prompt)\n",
    "Audio(audio_array, rate=SAMPLE_RATE)\n",
    "# write_wav(\"/content/english.wav\", SAMPLE_RATE, audio_array)"
   ]
  },
  {
   "cell_type": "code",
   "execution_count": null,
   "metadata": {},
   "outputs": [],
   "source": [
    "text_prompt = \"\"\"\n",
    "    ひき肉でーーーす．\n",
    "\"\"\"\n",
    "\n",
    "audio_array = generate_audio(text_prompt, prompt=\"cafe\")\n",
    "Audio(audio_array, rate=SAMPLE_RATE)\n",
    "# write_wav(\"/content/japanese.wav\", SAMPLE_RATE, audio_array)"
   ]
  },
  {
   "cell_type": "markdown",
   "metadata": {},
   "source": [
    "テスト w/ リファレンス\n"
   ]
  },
  {
   "cell_type": "code",
   "execution_count": null,
   "metadata": {},
   "outputs": [],
   "source": [
    "input_file = \"../sample.m4a\"\n",
    "output_file = input_file.replace(\".m4a\", \".wav\")\n",
    "\n",
    "audio = AudioSegment.from_file(input_file, format=\"m4a\")\n",
    "audio.export(output_file, format=\"wav\")\n",
    "Audio(output_file)"
   ]
  },
  {
   "cell_type": "code",
   "execution_count": null,
   "metadata": {},
   "outputs": [],
   "source": [
    "make_prompt(\n",
    "    name=\"sample\",\n",
    "    audio_prompt_path=\"/content/sample.wav\",\n",
    "    transcript=\"所感としては不自然な読み方をするときもあるが、数回やっているうちに一回はいい感じのものが生成される印象でした。\",\n",
    ")\n",
    "text_prompt = \"おそらく不自然な結果を見逃していたのでしょう\"\n",
    "\n",
    "audio_array = generate_audio(text_prompt, language=\"ja\", prompt=\"sample\")\n",
    "Audio(audio_array, rate=SAMPLE_RATE)\n",
    "# write_wav(\"/content/sample2.wav\", SAMPLE_RATE, audio_array)"
   ]
  },
  {
   "cell_type": "code",
   "execution_count": null,
   "metadata": {},
   "outputs": [],
   "source": []
  }
 ],
 "metadata": {
  "language_info": {
   "name": "python"
  }
 },
 "nbformat": 4,
 "nbformat_minor": 2
}
